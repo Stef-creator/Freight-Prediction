{
 "cells": [
  {
   "cell_type": "code",
   "execution_count": null,
   "id": "a2dda121",
   "metadata": {},
   "outputs": [
    {
     "name": "stdout",
     "output_type": "stream",
     "text": [
      "[Errno 2] No such file or directory: '.. # Change to the parent directory'\n",
      "/Users/stefan/VSCode/Freight-Prediction\n",
      "/Users/stefan/VSCode/Freight-Prediction\n"
     ]
    }
   ],
   "source": [
    "import sys\n",
    "import os\n",
    "\n",
    "sys.path.append(os.path.abspath(os.path.join(os.getcwd(), '..')))\n",
    "\n",
    "\n",
    "import pandas as pd\n",
    "import matplotlib.pyplot as plt\n",
    "import importlib\n",
    "\n",
    "#%cd .. # Change to the parent directory\n",
    "\n",
    "print(os.getcwd())\n"
   ]
  },
  {
   "cell_type": "markdown",
   "id": "a13186ac",
   "metadata": {},
   "source": [
    "# Freight Forecasting Project Overview\n",
    "## Problem Statement\n",
    "\n",
    "Freight markets are notoriously volatile and influenced by a mix of macroeconomic, operational, and seasonal factors. This project builds a full freight forecasting pipeline based on open-source economic and maritime datasets. Predicting weekly freight prices can aid in:\n",
    "\n",
    "- Chartering and logistics planning\n",
    "- Risk analysis for shipping portfolios\n",
    "- Strategic commodity trading\n",
    "\n",
    "We incorporate relevant features such as:\n",
    "- Global commodity and shipping prices (e.g., Brent crude, BPI)\n",
    "- Port-level congestion indicators\n",
    "- Agricultural trade flows (e.g., PNW, Corn price)\n",
    "- Derived indicators like seasonal components and volatility\n",
    "\n",
    "This notebook demonstrates a comprehensive freight forecasting pipeline that collects multiple datasets in to a single shared dataset, which upon which I train a selection of models. The models evaluated include traditional statistical approaches (e.g., ARIMA/ARIMAX), regression models (Ridge, Lasso), Machine Learning (SVR, XGBoost), and time-series forecasters (Prophet). \n",
    "\n",
    "Each model is evaluated on:\n",
    "- 1-week-ahead prediction accuracy\n",
    "- MAE (Mean Absolute Error)\n",
    "- R² Score\n",
    "- Visual comparison to actual values\n",
    "\n",
    "We will therefore proceed as follows: Explore the data, engineer features, train and evaluate models, compare their performance, and interpret the best models using SHAP.\n",
    "\n",
    "## Table of Contents\n",
    "1. [Problem Statement](#1-problem-statement)  \n",
    "2. [Data Overview](#2-data-overview)  \n",
    "   1. [How data is merged, interpolated, resampled](#21-how-data-is-merged-interpolated-resampled)  \n",
    "3. [Feature Engineering](#3-feature-engineering)  \n",
    "4. [Model Training and Evaluation](#4-model-training-and-evaluation)  \n",
    "5. [Model Comparison](#5-model-comparison)  \n",
    "6. [Model Interpretability](#6-model-interpretability)  \n",
    "7. [Conclusion and Next Steps](#7-conclusion-and-next-steps)  "
   ]
  },
  {
   "cell_type": "markdown",
   "id": "fdb021b7",
   "metadata": {},
   "source": [
    "## 2. Data Overview\n",
    "\n",
    "After having reviewed several papers (some of which live in the `theory/` folder), it appeared reasonable to assume that the key inputs driving freight rates include fuel prices, the value of the cargo, supply and demand dynamics, and market frictions such as port congestion. However, since I do not have access to high-quality proprietary data (e.g. Clarkson, Thomson Reuters, or AIS), I needed to explore alternative open-source datasets that could serve a similar purpose. Below is an overview of the public data sources I identified and ingested for this project:\n"
   ]
  },
  {
   "cell_type": "markdown",
   "id": "1d4d47f5",
   "metadata": {},
   "source": [
    "| Variable              | Description                                   | Frequency  | Source \n",
    "|-----------------------|-----------------------------------------------|------------|-------------\n",
    "| `Gulf`                | Gulf freight price (target variable)          | Weekly     | [US Dpm of Agricultural](https://www.ams.usda.gov/services/transportation-analysis/gtr-datasets)\n",
    "| `PNW`                 | Pacific Northwest freight price               | Weekly     | [US Dpm of Agricultural](https://www.ams.usda.gov/services/transportation-analysis/gtr-datasets)\n",
    "| `bpi`                 | Baltic Panamax Index                          | Daily      | [See Capital Markets](https://seecapitalmarkets.com/IndexDetailed?Id=430572) \n",
    "| `brent_price`         | Brent crude oil price                         | Daily      | [US Energy Information](https://www.eia.gov/dnav/pet/hist/RBRTED.htm)\n",
    "| `corn_price`          | U.S. corn price                               | Daily      | [See Capital Markets](https://seecapitalmarkets.com/Commodity?Id=72063)\n",
    "| `wheat_price`         | U.S. wheat price                              | Daily      | [See Capital Markets](https://seecapitalmarkets.com/Commodity?Id=72061)\n",
    "| `gscpi`               | Global Supply Chain Pressure Index            | Monthly    | [New York Federal Reserve](https://www.newyorkfed.org/research/policy/gscpi#/interactive)\n",
    "| `trade_vol`           | Trade volume index                            | Monthly    | [CPB World Trade Monitor (EU Com)](https://www.cpb.nl/en/world-trade-monitor-december-2024) \n",
    "| `ships_anchored`      | Number of ships anchored (weekly avg)         | Weekly     | [U.S. Department of Transportation](https://www.bts.gov/freight-indicators#inside)\n",
    "| `ships_waiting`       | Number of ships waiting (weekly avg)          | Weekly     | [U.S. Department of Transportation](https://www.bts.gov/freight-indicators#inside)\n",
    "| `ship_cap`            | Container ship capacity                       | Weekly     | [U.S. Department of Transportation](https://www.bts.gov/freight-indicators#inside)"
   ]
  },
  {
   "cell_type": "markdown",
   "id": "c1571567",
   "metadata": {},
   "source": [
    "### 2.1 How data is merged, interpolated, resampled\n",
    "\n",
    "Because the inputs arrive at mixed cadences (daily, weekly, and monthly) I first standardized everything to a Monday-weekly frequency. For monthly series, I forward-filled each month’s value across all weeks; for daily series, I aggregated by weekly mean. Even after alignment, the target series still had gaps, so I used linear interpolation to impute missing weeks. Finally, the limited coverage of the port-congestion proxies forced me to drop any weeks without full exogenous data, leaving a total of 175 complete observations.\n"
   ]
  },
  {
   "cell_type": "code",
   "execution_count": null,
   "id": "fbcc0407",
   "metadata": {},
   "outputs": [],
   "source": [
    "# in your Jupyter notebook\n",
    "import ipywidgets as widgets\n",
    "from IPython.display import display\n",
    "from utils.diagnostics import visualize_missing_data\n",
    "\n",
    "# create two output “canvases”\n",
    "out1 = widgets.Output()\n",
    "out2 = widgets.Output()\n",
    "\n",
    "# run your existing function inside each one\n",
    "with out1:\n",
    "    visualize_missing_data('data/processed/processed.csv')\n",
    "\n",
    "with out2:\n",
    "    visualize_missing_data('data/processed/all_data.csv')\n",
    "\n",
    "# lay them out side by side\n",
    "h = widgets.HBox([out1, out2])\n",
    "display(h)\n"
   ]
  },
  {
   "cell_type": "code",
   "execution_count": 14,
   "id": "dd4ee830",
   "metadata": {},
   "outputs": [
    {
     "data": {
      "image/png": "[encoded data removed]",
      "text/plain": [
       "<Figure size 1500x600 with 1 Axes>"
      ]
     },
     "metadata": {},
     "output_type": "display_data"
    }
   ],
   "source": [
    "from utils.diagnostics import visualize_missing_data\n",
    "\n",
    "visualize_missing_data()"
   ]
  },
  {
   "cell_type": "code",
   "execution_count": null,
   "id": "a50b6814",
   "metadata": {},
   "outputs": [],
   "source": [
    "## 2. Feature Engineering\n",
    "\n",
    "# Create lag features example\n",
    "max_lag = 5\n",
    "for lag in range(1, max_lag + 1):\n",
    "    df[f'Gulf_lag_{lag}'] = df['Gulf'].shift(lag)\n",
    "\n",
    "plt.figure(figsize=(12, 6))\n",
    "plt.plot(df['date'], df['Gulf_lag_1'], label='Gulf Lag 1')\n",
    "plt.title('Lagged Gulf Freight Price')\n",
    "plt.xlabel('Date')\n",
    "plt.ylabel('Price')\n",
    "plt.legend()\n",
    "plt.show()\n"
   ]
  },
  {
   "cell_type": "code",
   "execution_count": null,
   "id": "38af2811",
   "metadata": {},
   "outputs": [],
   "source": [
    "## 3. Model Training and Evaluation\n",
    "from models.run_all_models import run_all_models\n",
    "importlib.reload(models.run_all_models)\n",
    "from models.run_all_models import run_all_models\n",
    "\n",
    "\n",
    "# Run models pipeline\n",
    "run_all_models()\n",
    "\n"
   ]
  },
  {
   "cell_type": "code",
   "execution_count": null,
   "id": "aa728959",
   "metadata": {},
   "outputs": [],
   "source": [
    "import importlib\n",
    "import models.run_all_models  # this imports the module properly\n",
    "importlib.reload(models.run_all_models)  # now you can reload it\n",
    "\n",
    "from models.run_all_models import run_all_models\n",
    "\n",
    "run_all_models()\n",
    "\n"
   ]
  },
  {
   "cell_type": "code",
   "execution_count": null,
   "id": "b91311cc",
   "metadata": {},
   "outputs": [],
   "source": [
    "from models.run_all_models import run_all_models\n",
    "\n",
    "# Run models pipeline\n",
    "run_all_models()\n"
   ]
  }
 ],
 "metadata": {
  "kernelspec": {
   "display_name": ".venv",
   "language": "python",
   "name": "python3"
  },
  "language_info": {
   "codemirror_mode": {
    "name": "ipython",
    "version": 3
   },
   "file_extension": ".py",
   "mimetype": "text/x-python",
   "name": "python",
   "nbconvert_exporter": "python",
   "pygments_lexer": "ipython3",
   "version": "3.10.6"
  }
 },
 "nbformat": 4,
 "nbformat_minor": 5
}
